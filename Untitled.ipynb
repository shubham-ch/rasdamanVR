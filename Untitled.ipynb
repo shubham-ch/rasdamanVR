{
 "cells": [
  {
   "cell_type": "code",
   "execution_count": 13,
   "id": "f3cf9e50",
   "metadata": {
    "scrolled": false
   },
   "outputs": [
    {
     "data": {
      "image/png": "[encoded data removed]",
      "text/plain": [
       "<IPython.core.display.Image object>"
      ]
     },
     "execution_count": 13,
     "metadata": {},
     "output_type": "execute_result"
    }
   ],
   "source": [
    "# Get a subset coverage by slicing on time axis, trimming on spatial axes, and encoding result in image/jpeg.\n",
    "\n",
    "from IPython.display import Image\n",
    "import requests\n",
    "\n",
    "# Set base url which can be used in further code examples\n",
    "service_endpoint = \"https://code-de.rasdaman.com/rasdaman/ows\"\n",
    "base_wcs_url = service_endpoint + \"?service=WCS&version=2.0.1\"\n",
    "\n",
    "request = \"&REQUEST=GetCoverage\"\n",
    "cov_id = \"&COVERAGEID=S2_L2A_32631_TCI_60m\"\n",
    "subset_time = \"&SUBSET=ansi(\\\"2017-04-03\\\")\"\n",
    "subset_e = \"&SUBSET=E(640000,690000)\"\n",
    "subset_n = \"&SUBSET=N(5090220,5115220)\"\n",
    "encode_format = \"&FORMAT=image/jpeg\"\n",
    "\n",
    "response = requests.get(base_wcs_url + request + cov_id + subset_time + subset_e + subset_n + encode_format)\n",
    "\n",
    "# Display result directly\n",
    "Image(data=response.content)"
   ]
  },
  {
   "cell_type": "code",
   "execution_count": 14,
   "id": "b977ff3d",
   "metadata": {},
   "outputs": [
    {
     "data": {
      "image/png": "[encoded data removed]",
      "text/plain": [
       "<IPython.core.display.Image object>"
      ]
     },
     "execution_count": 14,
     "metadata": {},
     "output_type": "execute_result"
    }
   ],
   "source": [
    "query = '''\n",
    "for $c in (S2_L2A_32631_B01_60m) \n",
    "return\n",
    "  encode(\n",
    "    ( 0.20 * ( 1050.0 + ( \n",
    "                (float) $c[ ansi( \"2017-04-03\" ) ] - \n",
    "                        $c[ ansi( \"2017-04-10\" ) ] ) \n",
    "            ) \n",
    "    )[ E( 660000:690000 ), N( 5090220:5115220 ) ]\n",
    "   , \"image/jpeg\")\n",
    "'''\n",
    "\n",
    "# Send a WCPS query for evaluation on the rasdaman server; as WCPS queries usually contain \n",
    "# special characters like '[', ']', '{', '}', it is necessary to send POST requests. \n",
    "response = requests.post(service_endpoint, data = {'query': query})\n",
    "\n",
    "# Display result directly\n",
    "#print response.content\n",
    "Image(data=response.content)"
   ]
  },
  {
   "cell_type": "code",
   "execution_count": null,
   "id": "9ca7731b",
   "metadata": {},
   "outputs": [],
   "source": []
  }
 ],
 "metadata": {
  "kernelspec": {
   "display_name": "Python 3",
   "language": "python",
   "name": "python3"
  },
  "language_info": {
   "codemirror_mode": {
    "name": "ipython",
    "version": 3
   },
   "file_extension": ".py",
   "mimetype": "text/x-python",
   "name": "python",
   "nbconvert_exporter": "python",
   "pygments_lexer": "ipython3",
   "version": "3.8.8"
  }
 },
 "nbformat": 4,
 "nbformat_minor": 5
}
